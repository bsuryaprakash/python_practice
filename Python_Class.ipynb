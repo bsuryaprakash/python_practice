{
  "nbformat": 4,
  "nbformat_minor": 0,
  "metadata": {
    "colab": {
      "provenance": [],
      "authorship_tag": "ABX9TyMy+u9YyTwMrAwjkqeUZul0",
      "include_colab_link": true
    },
    "kernelspec": {
      "name": "python3",
      "display_name": "Python 3"
    },
    "language_info": {
      "name": "python"
    }
  },
  "cells": [
    {
      "cell_type": "markdown",
      "metadata": {
        "id": "view-in-github",
        "colab_type": "text"
      },
      "source": [
        "<a href=\"https://colab.research.google.com/github/bsuryaprakash/python_practice/blob/master/Python_Class.ipynb\" target=\"_parent\"><img src=\"https://colab.research.google.com/assets/colab-badge.svg\" alt=\"Open In Colab\"/></a>"
      ]
    },
    {
      "cell_type": "markdown",
      "source": [
        "Python is a high-level, general-purpose programming language. Its design philosophy emphasizes code readability with the use of significant indentation.\n",
        "\n",
        "Python is dynamically-typed and garbage-collected. It supports multiple programming paradigms, including structured (particularly procedural), object-oriented and functional programming. It is often described as a \"batteries included\" language due to its comprehensive standard library.\n",
        "\n",
        "Guido van Rossum began working on Python in the late 1980s as a successor to the ABC programming language and first released it in 1991 as Python 0.9.0."
      ],
      "metadata": {
        "id": "ASi3-EiObbYu"
      }
    },
    {
      "cell_type": "code",
      "execution_count": 3,
      "metadata": {
        "colab": {
          "base_uri": "https://localhost:8080/"
        },
        "id": "KX4PFeZ2a59i",
        "outputId": "59693c60-796a-427d-85ba-5295226def3a"
      },
      "outputs": [
        {
          "output_type": "stream",
          "name": "stdout",
          "text": [
            "Python 3.8.16\n"
          ]
        }
      ],
      "source": [
        "!python --version"
      ]
    },
    {
      "cell_type": "code",
      "source": [
        "#Print\n",
        "\n",
        "print(\"hello, Python!!\")"
      ],
      "metadata": {
        "colab": {
          "base_uri": "https://localhost:8080/"
        },
        "id": "XjWBqbJlchLk",
        "outputId": "f768ee58-577c-4693-e638-bb39b7d4713e"
      },
      "execution_count": 4,
      "outputs": [
        {
          "output_type": "stream",
          "name": "stdout",
          "text": [
            "hello, Python!!\n"
          ]
        }
      ]
    },
    {
      "cell_type": "code",
      "source": [
        "# Python is case sensitive - we'll get an error!\n",
        "\n",
        "PRINT(\"Hello\")"
      ],
      "metadata": {
        "colab": {
          "base_uri": "https://localhost:8080/",
          "height": 200
        },
        "id": "rnR_J4W5dLnr",
        "outputId": "41f65f7b-c0f2-4333-fdd9-ee0bcdbb9b73"
      },
      "execution_count": 5,
      "outputs": [
        {
          "output_type": "error",
          "ename": "NameError",
          "evalue": "ignored",
          "traceback": [
            "\u001b[0;31m---------------------------------------------------------------------------\u001b[0m",
            "\u001b[0;31mNameError\u001b[0m                                 Traceback (most recent call last)",
            "\u001b[0;32m<ipython-input-5-76880ec4276f>\u001b[0m in \u001b[0;36m<module>\u001b[0;34m\u001b[0m\n\u001b[1;32m      1\u001b[0m \u001b[0;31m# Python is case sensitive\u001b[0m\u001b[0;34m\u001b[0m\u001b[0;34m\u001b[0m\u001b[0;34m\u001b[0m\u001b[0m\n\u001b[1;32m      2\u001b[0m \u001b[0;34m\u001b[0m\u001b[0m\n\u001b[0;32m----> 3\u001b[0;31m \u001b[0mPRINT\u001b[0m\u001b[0;34m(\u001b[0m\u001b[0;34m\"Hello\"\u001b[0m\u001b[0;34m)\u001b[0m\u001b[0;34m\u001b[0m\u001b[0;34m\u001b[0m\u001b[0m\n\u001b[0m",
            "\u001b[0;31mNameError\u001b[0m: name 'PRINT' is not defined"
          ]
        }
      ]
    },
    {
      "cell_type": "code",
      "source": [
        "# -- OLD METHODS --\n",
        "# Python program showing how to use\n",
        "# string modulo operator(%) to print\n",
        "# fancier output\n",
        " \n",
        "# print integer and float value\n",
        "print(\"Geeks : %004d, Portal : %01.2f\" % (1, 05.333))\n",
        " \n",
        "# print integer value\n",
        "print(\"Total students : %3d, Boys : %2d\" % (240, 120))\n",
        " \n",
        "# print octal value\n",
        "print(\"%7.3o\" % (25))\n",
        " \n",
        "# print exponential value\n",
        "print(\"%10.3E\" % (356.08977))"
      ],
      "metadata": {
        "colab": {
          "base_uri": "https://localhost:8080/"
        },
        "id": "xhHel3BUeIrR",
        "outputId": "0eb7dbdd-f277-4383-8c5c-7fc3e5779ae2"
      },
      "execution_count": 28,
      "outputs": [
        {
          "output_type": "stream",
          "name": "stdout",
          "text": [
            "Geeks : 0001, Portal : 5.33\n",
            "Total students : 240, Boys : 120\n",
            "    031\n",
            " 3.561E+02\n"
          ]
        }
      ]
    },
    {
      "cell_type": "code",
      "source": [
        "# How to Comment?\n",
        "\n",
        "# using '#' is one way to do it\n",
        "\n",
        "\"\"\" \n",
        "This is another way\n",
        "\"\"\"\n",
        "\n",
        "print(\"testing comments - we don't see commented section running!\")\n",
        "\n"
      ],
      "metadata": {
        "colab": {
          "base_uri": "https://localhost:8080/"
        },
        "id": "ZMViDpX1dSJX",
        "outputId": "be5974a6-1033-4f41-bb4f-6fd6bc5f69dd"
      },
      "execution_count": 8,
      "outputs": [
        {
          "output_type": "stream",
          "name": "stdout",
          "text": [
            "testing comments - we don't see commented section running!\n"
          ]
        }
      ]
    },
    {
      "cell_type": "code",
      "source": [
        "# Defining Variables\n",
        "\n"
      ],
      "metadata": {
        "id": "QXmP7EBody0v"
      },
      "execution_count": null,
      "outputs": []
    }
  ]
}